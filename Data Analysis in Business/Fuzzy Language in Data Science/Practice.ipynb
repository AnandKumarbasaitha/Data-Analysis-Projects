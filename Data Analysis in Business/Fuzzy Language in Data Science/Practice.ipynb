{
 "cells": [
  {
   "cell_type": "markdown",
   "metadata": {},
   "source": [
    "# Fuzzy Language in Data Science"
   ]
  },
  {
   "cell_type": "code",
   "execution_count": 1,
   "metadata": {},
   "outputs": [],
   "source": [
    "import pandas as pd\n",
    "import datetime as dt"
   ]
  },
  {
   "cell_type": "code",
   "execution_count": 3,
   "metadata": {},
   "outputs": [],
   "source": [
    "data = pd.read_csv(\"rfm_xmas19.csv\", parse_dates=[\"trans_date\"])\n",
    "group_by_customer = data.groupby(\"customer_id\")\n",
    "last_transaction = group_by_customer[\"trans_date\"].max()\n",
    "best_churn = pd.DataFrame(last_transaction)\n",
    "\n",
    "cutoff_day = dt.datetime(2019, 10, 16)\n",
    "\n",
    "best_churn[\"churned\"] = best_churn[\"trans_date\"].apply(\n",
    "    lambda date: 1 if date < cutoff_day else 0\n",
    ")"
   ]
  },
  {
   "cell_type": "code",
   "execution_count": 4,
   "metadata": {},
   "outputs": [],
   "source": [
    "best_churn[\"nr_of_transactions\"] = group_by_customer.size()\n",
    "\n",
    "best_churn['amount_spent'] = group_by_customer.sum()"
   ]
  },
  {
   "cell_type": "code",
   "execution_count": 5,
   "metadata": {},
   "outputs": [],
   "source": [
    "best_churn = best_churn.drop('trans_date',axis=1)"
   ]
  },
  {
   "cell_type": "code",
   "execution_count": 6,
   "metadata": {},
   "outputs": [],
   "source": [
    "best_churn['scaled_tran'] = (best_churn['nr_of_transactions']-best_churn['nr_of_transactions'].min())/(best_churn['nr_of_transactions'].max()-best_churn['nr_of_transactions'].min())\n",
    "\n",
    "best_churn['scaled_amount'] = (best_churn['amount_spent']-best_churn['amount_spent'].min())/(best_churn['amount_spent'].max()-best_churn['amount_spent'].min())\n",
    "\n",
    "best_churn['score'] = best_churn['scaled_amount'] * 0.5 + 0.5 * best_churn['scaled_tran']\n",
    "\n",
    "best_churn['score'] = 100 * best_churn['score']\n",
    "\n",
    "best_churn = best_churn.sort_values('score',ascending=False)"
   ]
  },
  {
   "cell_type": "code",
   "execution_count": 7,
   "metadata": {},
   "outputs": [
    {
     "data": {
      "text/html": [
       "<div>\n",
       "<style scoped>\n",
       "    .dataframe tbody tr th:only-of-type {\n",
       "        vertical-align: middle;\n",
       "    }\n",
       "\n",
       "    .dataframe tbody tr th {\n",
       "        vertical-align: top;\n",
       "    }\n",
       "\n",
       "    .dataframe thead th {\n",
       "        text-align: right;\n",
       "    }\n",
       "</style>\n",
       "<table border=\"1\" class=\"dataframe\">\n",
       "  <thead>\n",
       "    <tr style=\"text-align: right;\">\n",
       "      <th></th>\n",
       "      <th>churned</th>\n",
       "      <th>nr_of_transactions</th>\n",
       "      <th>amount_spent</th>\n",
       "      <th>scaled_tran</th>\n",
       "      <th>scaled_amount</th>\n",
       "      <th>score</th>\n",
       "    </tr>\n",
       "    <tr>\n",
       "      <th>customer_id</th>\n",
       "      <th></th>\n",
       "      <th></th>\n",
       "      <th></th>\n",
       "      <th></th>\n",
       "      <th></th>\n",
       "      <th></th>\n",
       "    </tr>\n",
       "  </thead>\n",
       "  <tbody>\n",
       "    <tr>\n",
       "      <th>CS4424</th>\n",
       "      <td>1</td>\n",
       "      <td>39</td>\n",
       "      <td>2933</td>\n",
       "      <td>1.000000</td>\n",
       "      <td>1.000000</td>\n",
       "      <td>100.000000</td>\n",
       "    </tr>\n",
       "    <tr>\n",
       "      <th>CS4320</th>\n",
       "      <td>1</td>\n",
       "      <td>38</td>\n",
       "      <td>2647</td>\n",
       "      <td>0.971429</td>\n",
       "      <td>0.897270</td>\n",
       "      <td>93.434934</td>\n",
       "    </tr>\n",
       "    <tr>\n",
       "      <th>CS3799</th>\n",
       "      <td>1</td>\n",
       "      <td>36</td>\n",
       "      <td>2513</td>\n",
       "      <td>0.914286</td>\n",
       "      <td>0.849138</td>\n",
       "      <td>88.171182</td>\n",
       "    </tr>\n",
       "    <tr>\n",
       "      <th>CS5109</th>\n",
       "      <td>1</td>\n",
       "      <td>35</td>\n",
       "      <td>2506</td>\n",
       "      <td>0.885714</td>\n",
       "      <td>0.846624</td>\n",
       "      <td>86.616892</td>\n",
       "    </tr>\n",
       "    <tr>\n",
       "      <th>CS3805</th>\n",
       "      <td>1</td>\n",
       "      <td>35</td>\n",
       "      <td>2453</td>\n",
       "      <td>0.885714</td>\n",
       "      <td>0.827586</td>\n",
       "      <td>85.665025</td>\n",
       "    </tr>\n",
       "  </tbody>\n",
       "</table>\n",
       "</div>"
      ],
      "text/plain": [
       "             churned  nr_of_transactions  amount_spent  scaled_tran  \\\n",
       "customer_id                                                           \n",
       "CS4424             1                  39          2933     1.000000   \n",
       "CS4320             1                  38          2647     0.971429   \n",
       "CS3799             1                  36          2513     0.914286   \n",
       "CS5109             1                  35          2506     0.885714   \n",
       "CS3805             1                  35          2453     0.885714   \n",
       "\n",
       "             scaled_amount       score  \n",
       "customer_id                             \n",
       "CS4424            1.000000  100.000000  \n",
       "CS4320            0.897270   93.434934  \n",
       "CS3799            0.849138   88.171182  \n",
       "CS5109            0.846624   86.616892  \n",
       "CS3805            0.827586   85.665025  "
      ]
     },
     "execution_count": 7,
     "metadata": {},
     "output_type": "execute_result"
    }
   ],
   "source": [
    "best_churn.head()"
   ]
  },
  {
   "cell_type": "code",
   "execution_count": 8,
   "metadata": {},
   "outputs": [],
   "source": [
    "coupon = (data['tran_amount'].mean()) * 0.3\n",
    "\n",
    "nr_of_customers = 1000 / coupon"
   ]
  },
  {
   "cell_type": "code",
   "execution_count": 9,
   "metadata": {},
   "outputs": [
    {
     "name": "stdout",
     "output_type": "stream",
     "text": [
      "19.4975736\n",
      "51.28843314123969\n"
     ]
    }
   ],
   "source": [
    "print(coupon, nr_of_customers, sep=\"\\n\")"
   ]
  },
  {
   "cell_type": "code",
   "execution_count": 10,
   "metadata": {},
   "outputs": [],
   "source": [
    "top_50_churned = best_churn.loc[best_churn['churned']==1].head(50)\n",
    "\n",
    "top_50_churned.to_csv('best_customers.csv')"
   ]
  },
  {
   "cell_type": "code",
   "execution_count": null,
   "metadata": {},
   "outputs": [],
   "source": []
  }
 ],
 "metadata": {
  "kernelspec": {
   "display_name": "Python 3",
   "language": "python",
   "name": "python3"
  },
  "language_info": {
   "codemirror_mode": {
    "name": "ipython",
    "version": 3
   },
   "file_extension": ".py",
   "mimetype": "text/x-python",
   "name": "python",
   "nbconvert_exporter": "python",
   "pygments_lexer": "ipython3",
   "version": "3.7.1"
  }
 },
 "nbformat": 4,
 "nbformat_minor": 2
}
