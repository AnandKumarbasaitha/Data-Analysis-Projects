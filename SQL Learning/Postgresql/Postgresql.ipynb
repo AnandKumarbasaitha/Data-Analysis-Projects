{
 "cells": [
  {
   "cell_type": "markdown",
   "metadata": {},
   "source": [
    "# Postgresql starter code"
   ]
  },
  {
   "cell_type": "code",
   "execution_count": 11,
   "metadata": {},
   "outputs": [
    {
     "name": "stdout",
     "output_type": "stream",
     "text": [
      "<cursor object at 0x000000000567F048; closed: 0>\n"
     ]
    }
   ],
   "source": [
    "import psycopg2\n",
    "conn = psycopg2.connect(dbname=\"postgres\", user=\"postgres\", password=\"pratik\")\n",
    "cur = conn.cursor()\n",
    "print(cur)\n",
    "conn.close()"
   ]
  },
  {
   "cell_type": "code",
   "execution_count": 12,
   "metadata": {},
   "outputs": [],
   "source": [
    "import psycopg2\n",
    "conn = psycopg2.connect(dbname=\"postgres\", user=\"postgres\", password=\"pratik\")\n",
    "cur = conn.cursor()\n",
    "query = \"CREATE TABLE notes (id INTEGER PRIMARY KEY, body TEXT, title TEXT)\"\n",
    "cur.execute(query)\n",
    "conn.close()"
   ]
  },
  {
   "cell_type": "code",
   "execution_count": 13,
   "metadata": {},
   "outputs": [],
   "source": [
    "import psycopg2\n",
    "conn = psycopg2.connect(dbname=\"postgres\", user=\"postgres\", password=\"pratik\")\n",
    "cur = conn.cursor()\n",
    "query = \"CREATE TABLE notes (id INTEGER PRIMARY KEY, body TEXT, title TEXT)\"\n",
    "cur.execute(query)\n",
    "conn.commit()\n",
    "conn.close()"
   ]
  },
  {
   "cell_type": "code",
   "execution_count": 14,
   "metadata": {},
   "outputs": [],
   "source": [
    "import psycopg2\n",
    "conn = psycopg2.connect(dbname=\"postgres\", user=\"postgres\", password=\"pratik\")\n",
    "conn.autocommit = True\n",
    "cur = conn.cursor()\n",
    "query = \"CREATE TABLE facts (id INTEGER PRIMARY KEY, country TEXT, value TEXT)\"\n",
    "cur.execute(query)\n",
    "conn.close()"
   ]
  },
  {
   "cell_type": "code",
   "execution_count": 15,
   "metadata": {},
   "outputs": [
    {
     "name": "stdout",
     "output_type": "stream",
     "text": [
      "[(1, 'Do more missions on Dataquest.', 'Dataquest reminder')]\n"
     ]
    }
   ],
   "source": [
    "import psycopg2\n",
    "conn = psycopg2.connect(dbname=\"postgres\", user=\"postgres\", password=\"pratik\")\n",
    "cur = conn.cursor()\n",
    "query = \"INSERT INTO notes VALUES (1,'Do more missions on Dataquest.','Dataquest reminder');\"\n",
    "cur.execute(query)\n",
    "cur.execute('SELECT * FROM notes;')\n",
    "result = cur.fetchall()\n",
    "print(result)\n",
    "conn.close()"
   ]
  },
  {
   "cell_type": "code",
   "execution_count": 17,
   "metadata": {},
   "outputs": [],
   "source": [
    "import psycopg2\n",
    "conn = psycopg2.connect(dbname=\"postgres\", user=\"postgres\", password=\"pratik\")\n",
    "conn.autocommit = True\n",
    "cur = conn.cursor()\n",
    "query = \"CREATE DATABASE income OWNER postgres;\"\n",
    "cur.execute(query)\n",
    "conn.close()"
   ]
  },
  {
   "cell_type": "code",
   "execution_count": 18,
   "metadata": {},
   "outputs": [],
   "source": [
    "import psycopg2\n",
    "conn = psycopg2.connect(dbname=\"postgres\", user=\"postgres\", password=\"pratik\")\n",
    "conn.autocommit = True\n",
    "cur = conn.cursor()\n",
    "query = \"DROP DATABASE income;\"\n",
    "cur.execute(query)\n",
    "conn.close()"
   ]
  }
 ],
 "metadata": {
  "kernelspec": {
   "display_name": "Python 3",
   "language": "python",
   "name": "python3"
  },
  "language_info": {
   "codemirror_mode": {
    "name": "ipython",
    "version": 3
   },
   "file_extension": ".py",
   "mimetype": "text/x-python",
   "name": "python",
   "nbconvert_exporter": "python",
   "pygments_lexer": "ipython3",
   "version": "3.7.1"
  }
 },
 "nbformat": 4,
 "nbformat_minor": 2
}
