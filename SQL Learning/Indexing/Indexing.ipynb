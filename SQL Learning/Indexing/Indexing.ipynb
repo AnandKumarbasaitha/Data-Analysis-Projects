{
 "cells": [
  {
   "cell_type": "markdown",
   "metadata": {},
   "source": [
    "# Introduction to Indexing"
   ]
  },
  {
   "cell_type": "code",
   "execution_count": null,
   "metadata": {},
   "outputs": [],
   "source": [
    "import sqlite3\n",
    "conn = sqlite3.connect(\"factbook.db\")\n",
    "cur = conn.cursor()\n",
    "schema = cur.execute('pragma table_info(facts)').fetchall()\n",
    "for i in schema:\n",
    "    print(i)"
   ]
  },
  {
   "cell_type": "code",
   "execution_count": null,
   "metadata": {},
   "outputs": [],
   "source": [
    "query_plan_one = conn.execute(\"EXPLAIN QUERY PLAN SELECT * FROM facts WHERE area > 40000;\").fetchall()\n",
    "\n",
    "query_plan_two = conn.execute(\"EXPLAIN QUERY PLAN SELECT area FROM facts WHERE area > 40000;\").fetchall()\n",
    "\n",
    "query_plan_three = conn.execute(\"EXPLAIN QUERY PLAN SELECT * FROM facts WHERE name IS 'Czech Republic';\").fetchall()\n",
    "\n",
    "print(query_plan_one)\n",
    "print(query_plan_two)\n",
    "print(query_plan_three)"
   ]
  },
  {
   "cell_type": "code",
   "execution_count": null,
   "metadata": {},
   "outputs": [],
   "source": [
    "query_plan_four = conn.execute(\"EXPLAIN QUERY PLAN SELECT * FROM facts WHERE id IS 20;\").fetchall()\n",
    "\n",
    "print(query_plan_four)"
   ]
  },
  {
   "cell_type": "code",
   "execution_count": null,
   "metadata": {},
   "outputs": [],
   "source": [
    "query_plan_six = conn.execute(\"EXPLAIN QUERY PLAN SELECT * FROM facts WHERE population > 10000;\").fetchall()\n",
    "\n",
    "print(query_plan_six)\n",
    "\n",
    "conn.execute('CREATE INDEX IF NOT EXISTS pop_idx ON facts(population);')\n",
    "\n",
    "query_plan_seven = conn.execute(\"EXPLAIN QUERY PLAN SELECT * FROM facts WHERE population > 10000;\").fetchall()\n",
    "\n",
    "print(query_plan_seven)"
   ]
  },
  {
   "cell_type": "markdown",
   "metadata": {},
   "source": [
    "# Multi Column Indexing"
   ]
  },
  {
   "cell_type": "code",
   "execution_count": null,
   "metadata": {},
   "outputs": [],
   "source": [
    "import sqlite3\n",
    "conn = sqlite3.connect(\"factbook.db\")\n",
    "\n",
    "query_plan_one = conn.execute(\"EXPLAIN QUERY PLAN SELECT * FROM facts WHERE population > 1000000 AND population_growth < 0.05;\").fetchall()\n",
    "\n",
    "print(query_plan_one)"
   ]
  },
  {
   "cell_type": "code",
   "execution_count": null,
   "metadata": {},
   "outputs": [],
   "source": [
    "conn = sqlite3.connect(\"factbook.db\")\n",
    "\n",
    "conn.execute('CREATE INDEX pop_idx ON facts(population);')\n",
    "conn.execute('CREATE INDEX pop_growth_idx ON facts(population_growth);')\n",
    "\n",
    "query_plan_two = conn.execute(\"EXPLAIN QUERY PLAN SELECT * FROM facts WHERE population > 20 AND population_growth < 0.05;\").fetchall()\n",
    "\n",
    "print(query_plan_two)"
   ]
  },
  {
   "cell_type": "code",
   "execution_count": null,
   "metadata": {},
   "outputs": [],
   "source": [
    "conn = sqlite3.connect(\"factbook.db\")\n",
    "\n",
    "conn.execute('CREATE INDEX pop_pop_growth_idx ON facts(population, population_growth);')\n",
    "\n",
    "query_plan_three = conn.execute(\"EXPLAIN QUERY PLAN SELECT * FROM facts WHERE population > 1000000 AND population_growth < 0.05;\").fetchall()\n",
    "\n",
    "print(query_plan_three)"
   ]
  },
  {
   "cell_type": "code",
   "execution_count": null,
   "metadata": {},
   "outputs": [],
   "source": [
    "conn = sqlite3.connect(\"factbook.db\")\n",
    "conn.execute(\"create index if not exists pop_pop_growth_idx on facts(population, population_growth);\")\n",
    "\n",
    "query_plan_four = conn.execute(\"EXPLAIN QUERY PLAN SELECT population, population_growth FROM facts WHERE population > 1000000 AND population_growth < 0.05;\").fetchall()\n",
    "\n",
    "print(query_plan_four)"
   ]
  },
  {
   "cell_type": "code",
   "execution_count": null,
   "metadata": {},
   "outputs": [],
   "source": [
    "conn = sqlite3.connect(\"factbook.db\")\n",
    "conn.execute(\"create index if not exists pop_pop_growth_idx on facts(population, population_growth);\")\n",
    "\n",
    "query_plan_five = conn.execute(\"EXPLAIN QUERY PLAN SELECT population FROM facts WHERE population > 1000000;\").fetchall()\n",
    "\n",
    "print(query_plan_five)"
   ]
  },
  {
   "cell_type": "code",
   "execution_count": null,
   "metadata": {},
   "outputs": [],
   "source": []
  }
 ],
 "metadata": {
  "kernelspec": {
   "display_name": "Python 3",
   "language": "python",
   "name": "python3"
  },
  "language_info": {
   "codemirror_mode": {
    "name": "ipython",
    "version": 3
   },
   "file_extension": ".py",
   "mimetype": "text/x-python",
   "name": "python",
   "nbconvert_exporter": "python",
   "pygments_lexer": "ipython3",
   "version": "3.7.1"
  }
 },
 "nbformat": 4,
 "nbformat_minor": 2
}
