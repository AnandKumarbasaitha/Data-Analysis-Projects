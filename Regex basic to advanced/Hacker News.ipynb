{
 "cells": [
  {
   "cell_type": "markdown",
   "metadata": {},
   "source": [
    "<h1>HACKER NEWS POST ANALYSIS</h1>"
   ]
  },
  {
   "cell_type": "markdown",
   "metadata": {},
   "source": [
    "This project mainly focusses on the use of regular expressions"
   ]
  },
  {
   "cell_type": "code",
   "execution_count": 2,
   "metadata": {},
   "outputs": [],
   "source": [
    "import pandas as pd\n",
    "import re"
   ]
  },
  {
   "cell_type": "code",
   "execution_count": 3,
   "metadata": {},
   "outputs": [],
   "source": [
    "hn = pd.read_csv('hacker_news.csv')"
   ]
  },
  {
   "cell_type": "code",
   "execution_count": 4,
   "metadata": {},
   "outputs": [
    {
     "data": {
      "text/html": [
       "<div>\n",
       "<style scoped>\n",
       "    .dataframe tbody tr th:only-of-type {\n",
       "        vertical-align: middle;\n",
       "    }\n",
       "\n",
       "    .dataframe tbody tr th {\n",
       "        vertical-align: top;\n",
       "    }\n",
       "\n",
       "    .dataframe thead th {\n",
       "        text-align: right;\n",
       "    }\n",
       "</style>\n",
       "<table border=\"1\" class=\"dataframe\">\n",
       "  <thead>\n",
       "    <tr style=\"text-align: right;\">\n",
       "      <th></th>\n",
       "      <th>id</th>\n",
       "      <th>title</th>\n",
       "      <th>url</th>\n",
       "      <th>num_points</th>\n",
       "      <th>num_comments</th>\n",
       "      <th>author</th>\n",
       "      <th>created_at</th>\n",
       "    </tr>\n",
       "  </thead>\n",
       "  <tbody>\n",
       "    <tr>\n",
       "      <th>0</th>\n",
       "      <td>12224879</td>\n",
       "      <td>Interactive Dynamic Video</td>\n",
       "      <td>http://www.interactivedynamicvideo.com/</td>\n",
       "      <td>386</td>\n",
       "      <td>52</td>\n",
       "      <td>ne0phyte</td>\n",
       "      <td>8/4/2016 11:52</td>\n",
       "    </tr>\n",
       "    <tr>\n",
       "      <th>1</th>\n",
       "      <td>11964716</td>\n",
       "      <td>Florida DJs May Face Felony for April Fools' W...</td>\n",
       "      <td>http://www.thewire.com/entertainment/2013/04/f...</td>\n",
       "      <td>2</td>\n",
       "      <td>1</td>\n",
       "      <td>vezycash</td>\n",
       "      <td>6/23/2016 22:20</td>\n",
       "    </tr>\n",
       "    <tr>\n",
       "      <th>2</th>\n",
       "      <td>11919867</td>\n",
       "      <td>Technology ventures: From Idea to Enterprise</td>\n",
       "      <td>https://www.amazon.com/Technology-Ventures-Ent...</td>\n",
       "      <td>3</td>\n",
       "      <td>1</td>\n",
       "      <td>hswarna</td>\n",
       "      <td>6/17/2016 0:01</td>\n",
       "    </tr>\n",
       "    <tr>\n",
       "      <th>3</th>\n",
       "      <td>10301696</td>\n",
       "      <td>Note by Note: The Making of Steinway L1037 (2007)</td>\n",
       "      <td>http://www.nytimes.com/2007/11/07/movies/07ste...</td>\n",
       "      <td>8</td>\n",
       "      <td>2</td>\n",
       "      <td>walterbell</td>\n",
       "      <td>9/30/2015 4:12</td>\n",
       "    </tr>\n",
       "    <tr>\n",
       "      <th>4</th>\n",
       "      <td>10482257</td>\n",
       "      <td>Title II kills investment? Comcast and other I...</td>\n",
       "      <td>http://arstechnica.com/business/2015/10/comcas...</td>\n",
       "      <td>53</td>\n",
       "      <td>22</td>\n",
       "      <td>Deinos</td>\n",
       "      <td>10/31/2015 9:48</td>\n",
       "    </tr>\n",
       "  </tbody>\n",
       "</table>\n",
       "</div>"
      ],
      "text/plain": [
       "         id                                              title  \\\n",
       "0  12224879                          Interactive Dynamic Video   \n",
       "1  11964716  Florida DJs May Face Felony for April Fools' W...   \n",
       "2  11919867       Technology ventures: From Idea to Enterprise   \n",
       "3  10301696  Note by Note: The Making of Steinway L1037 (2007)   \n",
       "4  10482257  Title II kills investment? Comcast and other I...   \n",
       "\n",
       "                                                 url  num_points  \\\n",
       "0            http://www.interactivedynamicvideo.com/         386   \n",
       "1  http://www.thewire.com/entertainment/2013/04/f...           2   \n",
       "2  https://www.amazon.com/Technology-Ventures-Ent...           3   \n",
       "3  http://www.nytimes.com/2007/11/07/movies/07ste...           8   \n",
       "4  http://arstechnica.com/business/2015/10/comcas...          53   \n",
       "\n",
       "   num_comments      author       created_at  \n",
       "0            52    ne0phyte   8/4/2016 11:52  \n",
       "1             1    vezycash  6/23/2016 22:20  \n",
       "2             1     hswarna   6/17/2016 0:01  \n",
       "3             2  walterbell   9/30/2015 4:12  \n",
       "4            22      Deinos  10/31/2015 9:48  "
      ]
     },
     "execution_count": 4,
     "metadata": {},
     "output_type": "execute_result"
    }
   ],
   "source": [
    "hn.head()"
   ]
  },
  {
   "cell_type": "markdown",
   "metadata": {},
   "source": [
    "<h2>Regular expression Basics</h2>"
   ]
  },
  {
   "cell_type": "code",
   "execution_count": 6,
   "metadata": {},
   "outputs": [
    {
     "name": "stdout",
     "output_type": "stream",
     "text": [
      "160\n"
     ]
    }
   ],
   "source": [
    "titles = hn[\"title\"].tolist()\n",
    "\n",
    "pattern = '[Pp]ython'\n",
    "python_mentions = 0\n",
    "\n",
    "for s in titles:\n",
    "    if re.search(pattern, s):\n",
    "        python_mentions += 1\n",
    "\n",
    "print(python_mentions)"
   ]
  },
  {
   "cell_type": "code",
   "execution_count": 7,
   "metadata": {},
   "outputs": [
    {
     "name": "stdout",
     "output_type": "stream",
     "text": [
      "160\n"
     ]
    }
   ],
   "source": [
    "pattern = '[Pp]ython'\n",
    "\n",
    "titles = hn['title']\n",
    "\n",
    "python_mentions = titles.str.contains(pattern).sum()\n",
    "print(python_mentions)"
   ]
  },
  {
   "cell_type": "code",
   "execution_count": 8,
   "metadata": {},
   "outputs": [
    {
     "name": "stdout",
     "output_type": "stream",
     "text": [
      "190                     Ruby on Google AppEngine Goes Beta\n",
      "484           Related: Pure Ruby Relational Algebra Engine\n",
      "1388     Show HN: HTTPalooza  Ruby's greatest HTTP clie...\n",
      "1949     Rewriting a Ruby C Extension in Rust: How a Na...\n",
      "2022     Show HN: CrashBreak  Reproduce exceptions as f...\n",
      "2163                   Ruby 2.3 Is Only 4% Faster than 2.2\n",
      "2306     Websocket Shootout: Clojure, C++, Elixir, Go, ...\n",
      "2620                       Why Startups Use Ruby on Rails?\n",
      "2645     Ask HN: Should I continue working a Ruby gem f...\n",
      "3290     Ruby on Rails and the importance of being stup...\n",
      "3749     Telegram.org Bot Platform Webhooks Server, for...\n",
      "3874     Warp Directory (wd) unix command line tool for...\n",
      "4026     OS X 10.11 Ruby / Rails users can install ther...\n",
      "4163     Charles Nutter of JRuby Banned by Rubinius for...\n",
      "4602     Quiz: Ruby or Rails? Matz and DHH were not abl...\n",
      "5832     Show HN: An experimental Python to C#/Go/Ruby/...\n",
      "6180     Shrine  A new solution for handling file uploa...\n",
      "7171     JRuby+Truffle: Why its important to optimise t...\n",
      "7235                                        Ruby or Rails?\n",
      "7671                    How I hunted the most odd ruby bug\n",
      "7776     Elixir obsoletes Ruby, Erlang and Clojure in o...\n",
      "7870                            Elixir and Ruby Comparison\n",
      "8502     Show HN: Di-ary  a math note-taking app built ...\n",
      "10212               Ruby has been fast enough for 13 years\n",
      "11060    Show HN: VeryAnts: Probabilistic Integer Arith...\n",
      "11534                             The Ruby Code of Conduct\n",
      "11622    FasterPath: Faster Pathname Handling for Ruby ...\n",
      "12061       Ask HN: What's your favorite ruby HTTP client?\n",
      "12091    Show HN: Automated Bundle Update with Descript...\n",
      "12114                                         Awesome Ruby\n",
      "12543    Ruby Bug: SecureRandom should try /dev/urandom...\n",
      "12987    Show HN: Klipse  code evaluator pluggable on a...\n",
      "13550    Matz: I cannot accept the CoC for the Ruby com...\n",
      "13650                  Programs that rewrite Ruby programs\n",
      "14798                  Ruby Wrapper for Telegram's Bot API\n",
      "14980                    A Ruby gem for genetic algorithms\n",
      "16093                          Master Ruby Web APIs Is Out\n",
      "16149         Ruru: native Ruby extensions written in Rust\n",
      "16327                   Make Ruby Great Again [transcript]\n",
      "16422                                 Object Oriented Ruby\n",
      "16536                           Ruby Deoptimization Engine\n",
      "16875                         Video: Make Ruby Great Again\n",
      "17072    A coupon/deals site built using Roda gem for Ruby\n",
      "17510                        Table Flip on Ruby Exceptions\n",
      "18877    Using Rust with Ruby, a Deep Dive with Yehuda ...\n",
      "19077                           Python is Better than Ruby\n",
      "19224                    Modern concurrency tools for Ruby\n",
      "19743    Using a Neural Network to Train a Ruby Twitter...\n",
      "Name: title, dtype: object\n"
     ]
    }
   ],
   "source": [
    "titles = hn['title']\n",
    "pattern = '[Rr]uby'\n",
    "\n",
    "ruby_titles = titles[titles.str.contains(pattern)]\n",
    "print(ruby_titles)"
   ]
  },
  {
   "cell_type": "code",
   "execution_count": 9,
   "metadata": {},
   "outputs": [
    {
     "name": "stdout",
     "output_type": "stream",
     "text": [
      "86\n"
     ]
    },
    {
     "name": "stderr",
     "output_type": "stream",
     "text": [
      "C:\\Users\\PRATIK\\Anaconda3\\lib\\site-packages\\ipykernel_launcher.py:1: UserWarning: This pattern has match groups. To actually get the groups, use str.extract.\n",
      "  \"\"\"Entry point for launching an IPython kernel.\n"
     ]
    }
   ],
   "source": [
    "email_bool = titles.str.contains('e(-?)mail')\n",
    "\n",
    "email_count = email_bool.sum()\n",
    "\n",
    "email_titles = titles[email_bool]\n",
    "\n",
    "print(email_count)"
   ]
  },
  {
   "cell_type": "code",
   "execution_count": 10,
   "metadata": {},
   "outputs": [
    {
     "name": "stdout",
     "output_type": "stream",
     "text": [
      "444\n"
     ]
    },
    {
     "name": "stderr",
     "output_type": "stream",
     "text": [
      "C:\\Users\\PRATIK\\Anaconda3\\lib\\site-packages\\ipykernel_launcher.py:3: UserWarning: This pattern has match groups. To actually get the groups, use str.extract.\n",
      "  This is separate from the ipykernel package so we can avoid doing imports until\n"
     ]
    }
   ],
   "source": [
    "pattern = '\\[(\\w+)\\]'\n",
    "\n",
    "tag_titles = titles.str.contains(pattern)\n",
    "\n",
    "tag_count = tag_titles.sum()\n",
    "print(tag_count)"
   ]
  },
  {
   "cell_type": "code",
   "execution_count": 20,
   "metadata": {},
   "outputs": [],
   "source": [
    "java_titles = titles[titles.str.contains(r'[Jj]ava[^sS]')]"
   ]
  },
  {
   "cell_type": "code",
   "execution_count": 21,
   "metadata": {},
   "outputs": [],
   "source": [
    "pattern = r'\\b[Jj]ava\\b'\n",
    "\n",
    "java_titles = titles[titles.str.contains(pattern)]"
   ]
  },
  {
   "cell_type": "code",
   "execution_count": 22,
   "metadata": {},
   "outputs": [],
   "source": [
    "pattern_beginning = r'^\\[\\w+\\]'\n",
    "pattern_ending = r'\\[\\w+\\]$'\n",
    "\n",
    "beginning_count = titles.str.contains(pattern_beginning).sum()\n",
    "ending_count = titles.str.contains(pattern_ending).sum()"
   ]
  },
  {
   "cell_type": "code",
   "execution_count": 23,
   "metadata": {},
   "outputs": [
    {
     "name": "stdout",
     "output_type": "stream",
     "text": [
      "143\n"
     ]
    }
   ],
   "source": [
    "pattern = r'\\be[-\\s]?mails?'\n",
    "\n",
    "email_mentions = titles.str.contains(pattern, flags=re.I).sum()\n",
    "\n",
    "print(email_mentions)"
   ]
  },
  {
   "cell_type": "markdown",
   "metadata": {},
   "source": [
    "<h2>Advanced Regular Expressions</h2>"
   ]
  },
  {
   "cell_type": "code",
   "execution_count": 24,
   "metadata": {},
   "outputs": [],
   "source": [
    "titles = hn['title']\n",
    "\n",
    "sql_counts = titles.str.contains(r'sql',flags=re.I).sum()"
   ]
  },
  {
   "cell_type": "code",
   "execution_count": 25,
   "metadata": {},
   "outputs": [],
   "source": [
    "hn_sql = hn[hn['title'].str.contains(r\"\\w+SQL\", flags=re.I)].copy()\n",
    "\n",
    "hn_sql['flavor'] = hn['title'].str.extract(r'(\\w+sql)',flags=re.I)\n",
    "\n",
    "hn_sql['flavor'] = hn_sql['flavor'].str.lower()\n",
    "\n",
    "sql_pivot = hn_sql.pivot_table(index='flavor',values='num_comments',aggfunc='mean')"
   ]
  },
  {
   "cell_type": "code",
   "execution_count": 27,
   "metadata": {},
   "outputs": [],
   "source": [
    "def first_10_matches(pattern):\n",
    "    \"\"\"\n",
    "    Return the first 10 story titles that match\n",
    "    the provided regular expression\n",
    "    \"\"\"\n",
    "    all_matches = titles[titles.str.contains(pattern)]\n",
    "    first_10 = all_matches.head(10)\n",
    "    return first_10\n",
    "\n",
    "pattern = r\"\\b[Cc]\\b[^.+]\"\n",
    "\n",
    "first_ten = first_10_matches(pattern)"
   ]
  },
  {
   "cell_type": "code",
   "execution_count": 28,
   "metadata": {},
   "outputs": [],
   "source": [
    "pattern = r'(?<!Series\\s)\\b[Cc]\\b(?![.+])'\n",
    "\n",
    "c_mentions = titles.str.contains(pattern).sum()"
   ]
  },
  {
   "cell_type": "code",
   "execution_count": 29,
   "metadata": {},
   "outputs": [
    {
     "name": "stderr",
     "output_type": "stream",
     "text": [
      "C:\\Users\\PRATIK\\Anaconda3\\lib\\site-packages\\ipykernel_launcher.py:3: UserWarning: This pattern has match groups. To actually get the groups, use str.extract.\n",
      "  This is separate from the ipykernel package so we can avoid doing imports until\n"
     ]
    }
   ],
   "source": [
    "pattern = r'\\b(\\w+)\\s\\1\\b'\n",
    "\n",
    "repeated_words = titles[titles.str.contains(pattern)]"
   ]
  },
  {
   "cell_type": "code",
   "execution_count": 30,
   "metadata": {},
   "outputs": [],
   "source": [
    "email_variations = pd.Series(['email', 'Email', 'e Mail',\n",
    "                        'e mail', 'E-mail', 'e-mail',\n",
    "                        'eMail', 'E-Mail', 'EMAIL'])\n",
    "\n",
    "email_uniform = email_variations.str.replace(r'e[-\\s]?mail','email',flags=re.I)\n",
    "\n",
    "titles_clean = titles.str.replace(r'e[-\\s]?mail','email',flags=re.I)"
   ]
  },
  {
   "cell_type": "code",
   "execution_count": 32,
   "metadata": {},
   "outputs": [],
   "source": [
    "test_urls = pd.Series([\n",
    " 'https://www.amazon.com/Technology-Ventures-Enterprise-Thomas-Byers/dp/0073523429',\n",
    " 'http://www.interactivedynamicvideo.com/',\n",
    " 'http://www.nytimes.com/2007/11/07/movies/07stein.html?_r=0',\n",
    " 'http://evonomics.com/advertising-cannot-maintain-internet-heres-solution/',\n",
    " 'HTTPS://github.com/keppel/pinn',\n",
    " 'Http://phys.org/news/2015-09-scale-solar-youve.html',\n",
    " 'https://iot.seeed.cc',\n",
    " 'http://www.bfilipek.com/2016/04/custom-deleters-for-c-smart-pointers.html',\n",
    " 'http://beta.crowdfireapp.com/?beta=agnipath',\n",
    " 'https://www.valid.ly?param',\n",
    " 'http://css-cursor.techstream.org'\n",
    "])\n",
    "\n",
    "test_urls_clean = test_urls.str.extract(r'https?://([\\w.-]{0,})/?',flags=re.I)\n",
    "\n",
    "domains = hn['url'].str.extract(r'https?://([\\w.-]{0,})/?',flags=re.I)"
   ]
  },
  {
   "cell_type": "code",
   "execution_count": 33,
   "metadata": {},
   "outputs": [],
   "source": [
    "test_url_parts = test_urls.str.extract(r'(https?)://([\\w.-]+)/?(.*)',flags=re.I)\n",
    "\n",
    "url_parts = hn['url'].str.extract(r'(https?)://([\\w.-]+)/?(.*)',flags=re.I)"
   ]
  },
  {
   "cell_type": "code",
   "execution_count": 34,
   "metadata": {},
   "outputs": [],
   "source": [
    "pattern = r\"(?P<protocol>https?)://(?P<domain>[\\w\\.\\-]+)/?(?P<path>.*)\"\n",
    "\n",
    "url_parts = hn['url'].str.extract(pattern,flags=re.I)"
   ]
  },
  {
   "cell_type": "code",
   "execution_count": null,
   "metadata": {},
   "outputs": [],
   "source": []
  }
 ],
 "metadata": {
  "kernelspec": {
   "display_name": "Python 3",
   "language": "python",
   "name": "python3"
  },
  "language_info": {
   "codemirror_mode": {
    "name": "ipython",
    "version": 3
   },
   "file_extension": ".py",
   "mimetype": "text/x-python",
   "name": "python",
   "nbconvert_exporter": "python",
   "pygments_lexer": "ipython3",
   "version": "3.7.1"
  }
 },
 "nbformat": 4,
 "nbformat_minor": 2
}
